{
 "cells": [
  {
   "cell_type": "code",
   "execution_count": 117,
   "metadata": {},
   "outputs": [],
   "source": [
    "import pandas as pd\n",
    "url = \"https://www.sharkattackfile.net/spreadsheets/GSAF5.xls\"\n",
    "df = pd.read_excel(url)"
   ]
  },
  {
   "cell_type": "code",
   "execution_count": 119,
   "metadata": {},
   "outputs": [],
   "source": [
    "# modify columns\n",
    "df.columns = df.columns.map(lambda col: col.lower().strip())\n",
    "df.columns = df.columns.map(lambda col: col.replace(\" \", \"_\"))\n",
    "df = df.rename(columns={\"fatal_y/n\": \"fatal\"})\n",
    "df = df.drop(columns=['unnamed:_21','unnamed:_22','pdf', 'href_formula', 'href', 'case_number', 'case_number.1', 'original_order'])\n",
    "# unify fatality\n",
    "df.fatal = df.fatal.apply(lambda x: str(x).lower().strip())\n",
    "df.fatal = df.fatal.apply(lambda x: \"y\" if x==\"yes\" or x==\"y\" or x==\"f\" else \"n\" if x==\"n\" or x==\"no\" else \"unknown\")"
   ]
  },
  {
   "cell_type": "code",
   "execution_count": null,
   "metadata": {},
   "outputs": [],
   "source": []
  }
 ],
 "metadata": {
  "kernelspec": {
   "display_name": "Python [conda env:base] *",
   "language": "python",
   "name": "conda-base-py"
  },
  "language_info": {
   "codemirror_mode": {
    "name": "ipython",
    "version": 3
   },
   "file_extension": ".py",
   "mimetype": "text/x-python",
   "name": "python",
   "nbconvert_exporter": "python",
   "pygments_lexer": "ipython3",
   "version": "3.12.7"
  }
 },
 "nbformat": 4,
 "nbformat_minor": 4
}
